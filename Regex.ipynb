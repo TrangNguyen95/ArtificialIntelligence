{
 "cells": [
  {
   "cell_type": "code",
   "execution_count": 25,
   "metadata": {
    "collapsed": true
   },
   "outputs": [],
   "source": [
    "import re"
   ]
  },
  {
   "cell_type": "code",
   "execution_count": 26,
   "metadata": {
    "collapsed": true
   },
   "outputs": [],
   "source": [
    "my_string = \"Let's write RegEx!  Won't that be fun?  I sure think so.  Can you find 4 sentences?  Or perhaps, all 19 words?\""
   ]
  },
  {
   "cell_type": "code",
   "execution_count": 27,
   "metadata": {
    "collapsed": true
   },
   "outputs": [],
   "source": [
    "sentence_endings = r\"[.?!]\""
   ]
  },
  {
   "cell_type": "code",
   "execution_count": 28,
   "metadata": {},
   "outputs": [
    {
     "name": "stdout",
     "output_type": "stream",
     "text": [
      "[\"Let's write RegEx\", \"  Won't that be fun\", '  I sure think so', '  Can you find 4 sentences', '  Or perhaps, all 19 words', '']\n"
     ]
    }
   ],
   "source": [
    "# Split my_string on sentence endings and print the result\n",
    "print(re.split(sentence_endings, my_string))\n"
   ]
  },
  {
   "cell_type": "code",
   "execution_count": 29,
   "metadata": {},
   "outputs": [
    {
     "name": "stdout",
     "output_type": "stream",
     "text": [
      "['Let', 'RegEx', 'Won', 'Can', 'Or']\n"
     ]
    }
   ],
   "source": [
    "# Find all capitalized words in my_string and print the result\n",
    "capitalized_words = r\"[A-Z]\\w+\"\n",
    "print(re.findall(capitalized_words, my_string))"
   ]
  },
  {
   "cell_type": "code",
   "execution_count": 30,
   "metadata": {},
   "outputs": [
    {
     "name": "stdout",
     "output_type": "stream",
     "text": [
      "[\"Let's\", 'write', 'RegEx!', \"Won't\", 'that', 'be', 'fun?', 'I', 'sure', 'think', 'so.', 'Can', 'you', 'find', '4', 'sentences?', 'Or', 'perhaps,', 'all', '19', 'words?']\n"
     ]
    }
   ],
   "source": [
    "# Split my_string on spaces and print the result\n",
    "spaces = r\"\\s+\"\n",
    "print(re.split(spaces, my_string))"
   ]
  },
  {
   "cell_type": "code",
   "execution_count": 31,
   "metadata": {},
   "outputs": [
    {
     "name": "stdout",
     "output_type": "stream",
     "text": [
      "['4', '19']\n"
     ]
    }
   ],
   "source": [
    "# Find all digits in my_string and print the result\n",
    "digits = r\"\\d+\"\n",
    "print(re.findall(digits, my_string))"
   ]
  },
  {
   "cell_type": "code",
   "execution_count": 32,
   "metadata": {
    "collapsed": true
   },
   "outputs": [],
   "source": [
    "with open('grail.txt', 'r') as myfile:\n",
    "  scene_one = myfile.read()"
   ]
  },
  {
   "cell_type": "code",
   "execution_count": 33,
   "metadata": {},
   "outputs": [
    {
     "data": {
      "text/plain": [
       "str"
      ]
     },
     "execution_count": 33,
     "metadata": {},
     "output_type": "execute_result"
    }
   ],
   "source": [
    "type(scene_one)"
   ]
  },
  {
   "cell_type": "code",
   "execution_count": 34,
   "metadata": {},
   "outputs": [
    {
     "name": "stdout",
     "output_type": "stream",
     "text": [
      "{'bunny', 'another', 'Running', 'hall', 'SECOND', 'pass', 'Uther', 'Or', 'meant', 'brain', 'Thursday', 'occasion', 'frontal', 'bleeder', 'Torment', 'strongest', 'Britons', 'haw', 'Bedevere', 'grin', 'Spring', 'Galahad', \"'To\", 'thirty-seven', 'invincible', 'distress', 'RIGHT', 'gra', 'jam', 'Try', 'round', 'mashed', 'Ooh', 'Consult', 'entered', 'eyes', 'Ho', 'Christ', 'kills', 'reached', 'shows', 'This', 'two-level', 'was', 'pissing', \"'s\", 'anyway', 'taunt', 'why', 'LUCKY', 'Mmm', 'defeat', 'police', 'All', 'Who', 'those', 'looney', 'either', 'MIDGET', 'Lord', 'violence', 'scales', \"'Ere\", 'sometimes', 'splat', 'fly', 'wants', 'VILLAGER', 'vouchsafed', 'offensive', 'freedom', 'suppose', 'lies', 'end', 'centuries', 'cop', 'vests', 'strength', 'looked', 'smashing', 'sire', 'Pull', 'majority', 'Hmm', 'problem', 'Look', 'sir', 'mean', 'LAUNCELOT', 'bride', 'give-away', 'seems', 'Shall', 'Autumn', 'oo', 'lie', 'Remove', 'done', 'Hah', 'using', 'sell', 'back', 'inside', 'Monsieur', 'maybe', 'triumphs', 'types', 'request', 'chosen', 'watery', 'exciting', 'Chicken', 'needs', 'Is', 'domine', 'ones', 'wart', 'cereals', 'king', 'laughing', 'Fetchez', 'scribble', 'tap-dancing', 'will', 'distributing', 'arrange', 'lose', 'bridge', 'boom', 'hee', 'today', 'Lucky', 'strewn', 'breakfast', 'types-a', 'well', 'Hee', 'Just', 'Bors', 'Over', 'business', 'too', 'way', 'handsome', 'vote', 'Away', 'Bridge', 'going', '16', 'purest', 'which', 'chastity', 'telling', 'Angnor', 'Let', 'stew', 'turns', 'wedding', 'call', 'W', 'deeds', 'might', 'TIM', 'dare', 'aaaaaah', 'one', 'bastard', 'dappy', 'France', 'asks', 'small', 'wan', 'felt', 'Far', \"'shrubberies\", 'also', 'us', 'gentle', 'an', 'horse', 'design', 'Hold', 'war', 'twin', 'wipers', 'creep', 'animal', 'easily', 'say', 'relax', 'threw', 'pig', 'crossed', 'Pure', 'gravy', 'town', 'nearer', 'Nador', 'clunk', 'git', 'blanket', 'taunting', 'thanks', 'ways', 'newt', 'Ayy', 'SOLDIER', 'full', 'shut', 'looking', 'chops', 'bowels', 'Aaaaaaaaah', 'closest', 'ju', 'Surely', 'Three', 'Hiyya', 'merger', 'remain', 'rrrr', 'Hang', 'ceremony', 'north-east', \"'sorry\", 'yelling', 'oh', 'kind', 'eh', 'seemed', 'expensive', '9', 'wet', 'tough', 'rock', 'dress', 'To', 'bad-tempered', 'lucky', 'length', 'nick', 'Even', 'valor', 'nervous', 'castanets', \"'is\", \"'em\", 'Thpppppt', 'Farewell', 'Bones', 'cough', 'spam', 'bells', 'Un', 'cartoon', 'scenes', 'Ask', 'impersonate', 'Assyria', 'blessing', 'supports', 'strange', 'is', 'bitching', 'glory', 'ever', 'dance', 'nibble', 'Beast', 'aunties', 'find', 'PRINCESS', 'word', 'orangutans', 'at', 'miserable', 'valiant', 'Wait', 'i', 'die', 'unarmed', 'adversary', 'Shrubber', 'tops', 'basis', 'inferior', 'buggered', 'Amen', 'gained', 'It', 'shrubber', 'made', 'same', 'under', 'burst', 'formidable', 'learning', 'Very', 'fortune', 'Black', 'Use', 'ounce', 'ill.', 'finds', 'Put', 'glass', 'saved', 'Tell', 'near', 'And', 'Neee-wom', 'Here', 'Nine', 'halves', 'scene', 'where', 'grail', 'of', 'Clear', 'Speak', '14', 'excepting', 'non-migratory', 'uh', 'By', 'Umhm', 'given', 'put', 'although', 'try', 'says', 'liege', 'talk', 'Aaaaaaaah', 'anywhere', 'trumpets', 'woods', 'help', 'ugly', 'are', 'Leaving', 'bangin', 'Allo', 'Lake', 'lord', 'five', 'changed', 'thine', 'being', 'yes', 'work', 'eisrequiem', 'questions', 'Olfin', 'place', 'sneaking', 'outdated', '(', 'anything', 'c', 'clank', 'radio', 'guests', 'for', 'Oooh', 'Launcelot', 'Y', 'behind', 'legally', 'hmm', 'give', 'ninepence', 'nose', 'known', 'In', 'Listen', 'weather', 'regulations', 'social', 'can', 'Have', 'Thpppt', 'Attila', 'Sorry', 'heh..', 'main', 'pweeng', 'Thy', 'argue', 'DINGO', 'rescue', 'show', 'hidden', 'comin', 'would', 'awhile', 'Of', 'do', 'supreme', 'Father', 'CONCORDE', 'CUSTOMER', 'indeed', 'appease', 'Rheged', 'deal', 'pulp', 'eccentric', 'build', 'knocked', 'Arimathea', 'see', 'Victory', 'lunged', 'bet', 'Cornwall', 'Anyway', 'command', 'Hiyah', 'Aauuuves', '2', 'enemies', 'working', 'cast', 'sense', 'OFFICER', 'Divine', 'simple', 'bits', 'Old', 'wiper', 'HEADS', 'between', 'went', 'warned', 'Chapter', 'KNIGHT', 'Iiiiives', 'amazes', 'angels', 'new', 'Charge', 'MAYNARD', 'makes', 'apologise', 'elbows', 'bloody', 'weapon', 'Perhaps', 'ask', 'ZOOT', 'yet', 'Tim', 'more', 'just', 'wicked', 'dogma', 'marry', 'ni', 'dungeon', 'go', 'VOICE', 'rodent', 'lot', 'returns', 'sign', 'handle', 'rewr', 'split', 'proceed', 'Cherries', 'Dragon', 'personally', 'liar', 'leads', 'badger', 'hundred-and-fifty', 'search', 'wait', 'Bedwere', 'Off', 'much', 'country', 'blood', 'charged', 'presence', 'Anybody', 'because', 'For', 'answer', 'behold', 'temptress', 'over', 'utterly', 'built', 'easy', 'listen', 'feel', 'honored', \"'aaaah\", 'STUNNER', 'three', 'Other', 'rather', 'sad', 'packing', 'sawwwww', 'escape', 'They', 'passed', 'attend', 'outside', 'purely', 'pen', \"'til\", 'leave', 'tracts', '21', 'about', 'Never', 'pestilence', 'large', 'BRIDGEKEEPER', 'carp', 'reads', 'Grenade', 'Auuuuuuuugh', 'order', 'Firstly', 'sorry', 'BRIDE', 'herring', 'FATHER', 'Walk', 'chord', 'Gallahad', 'tiny', 'commune', 'Until', 'women', 'watch', 'bottoms', 'thump', 'never', 'heads', 'wounded', 'diaphragm', 'evil', 'Aaaugh', 'Aaauggh', 'young', 'hang', 'idiom', 'hospital', 'Aaaaugh', 'cart', 'period', 'thy', 'bring', 'awaaaaay', 'biscuits', 'discovers', 'Summer', 'house', 'pack', 'k-nnniggets', 'totally', 'Churches', 'ladies', 'knees-bent', 'sons', 'couple', 'bless', 'suddenly', 'opera', 'join', 'trade', \"'d\", 'setting', 'counting', 'averting', 'What', 'twenty-four', 'Eee', 'Go', 'minstrels', 'Lead', 'old', 'awfully', 'called', 'nearly', 'unclog', 'afraid', 'Wayy', 'duty', 'banana-shaped', 'his', 'kneecaps', 'Shrubberies', 'creature', 'The', 'swallows', 'bravest', 'wounding', 'ferocity', 'sixteen', '15', 'throat', 'carve', 'said', 'nine', 'lair', 'rocks', \"'Course\", 'When', 'next', 'heh', 'leap', 'snore', '12', 'Oooohoohohooo', 'something', 'knock', 'Right', 'four', 'treat', 'individually', 'Gable', \"'O\", 'ARMY', 'Hiyaah', 'doctors', 'Bread', 'Hand', 'Practice', 'animator', 'Arthur', 'color', 'continue', 'king-a', 'soiled', 'example', 'Book', 'brush', 'clllank', 'clang', 'glad', 'Come', 'not', 'conclusions', 'got', 'be', 'Where', 'matter', 'cadeau', 'down', 'Caerbannog', 'our', 'everyone', 'danger', 'Yes', 'protect', 'defeator', 'Ulk', 'footwork', 'Stand', \"'First\", 'PERSON', 'somebody', \"'ve\", 'beacon', 'u', 'mightiest', 'worried', 'MONKS', 'HISTORIAN', 'Uh', 'Holy', 'His', 'enter', 'Well', 'busy', 'Hoo', 'seem', ']', 'Ow', 'tail', 'chickening', 'risk', 'long', 'WITCH', 'the-not-quite-so-brave-as-Sir-Lancelot', 'remembered', 'sigh', 'everything', 'Agh', '23', 'MIDDLE', 'keeper', 'Honestly', 'year', 'signifying', 'mandate', 'has', 'grail-shaped', 'sample', 'eats', 'Ives', 'Stop', 'Aauuugh', 'Ohh', 'saying', 'Would', 'entrance', 'bad', 'note', 'Thsss', 'snap', 'allowed', 'arm', 'g', 'whose', 'Ha', 'resting', \"'Morning\", 'mistake', 'cry', 'Saint', 'Almighty', 'knight', 'best', 'verses', 'were', 'Defeat', 'guards', 'Really', 'Gorge', 'traveller', 'Riiight', 'eet', 'fold', 'doubt', 'p', 'separate', 'sent', 'bugger-folk', 'feathers', 'stone', 'Chaste', 'differences', 'ordinary', 'Peng', '3', 'ethereal', 'rest', 'Good', 'decided', '#', 'hand', 'dying', 'reasonable', 'required', 'object', 'most', 'anchovies', 'Ay', 'mer', 'vache', 'home', 'guarded', 'foe', 'stretched', 'fatal', 'ham', 'islands', 'Lady', 'Ewing', 'WIFE', 'HEAD', 'completely', 'particular', 'decision', 'Britain', 'ROBIN', 'Mud', 'Round', 'longer', 'Pie', 'England', 'emperor', '7', 'Princess', 'carrying', 'door-opening', 'PRISONER', 'Armaments', 'mate', 'vicious', 'SENTRY', 'grenade', 'Be', 'parts', 'More', 'flight', 'case', 'sharp', 'Which', 'groveling', 'Thou', 'draw', 'music', 'joyful', 'lying', 'bois', 'kneeling', 'flesh', 'uhh', 'north', 'gouged', 'if', 'THE', 'cost', 'ponds', 'sovereign', 'no', 'into', 'ha', 'confuse', 'away', 'clop', 'gallantly', 'knows', 'Meanwhile', 'send', 'explain', 'worked', 'perpetuates', 'Ages', 'special', 'Quick', 'problems', 'follow', 'foot', 'BEDEVERE', 'their', \"'T\", 'stand', 'Hello', '...', 'that', 'union', 'stab', 'I', 'plan', 'legendary', 'oral', 'mooo', 'wishes', 'my', 'Guards', 'self-perpetuating', 'looks', 'Yay', 'Get', 'riding', 'suffice', 'quiet', 'kicked', 'Run', 'nostrils', 'CRAPPER', 'own', 'Four', 'weighs', 'Thppppt', 'Iesu', 'snuff', 'eight', 'Build', 'than', 'Fine', 'single-handed', 'walking', \"'ni\", 'officer', 'sink', 'keep', 'fart', 'fled', 'Dramatically', 'sponge', 'safety', 'Heh', 'you', 'huge', 'Cider', 'MINSTREL', 'straight', 'covered', 'Sir', 'twang', 'whinny', 'previous', 'performance', 'ere', 'gave', 'gone', 'uuggggggh', 'k-niggets', 'frozen', 'awaits', 'Ah', 'Follow', 'identical', 'winter', 'True', 'praised', '10', 'coconuts', 'Winston', 'GUEST', 'history', 'baby', 'naughty', 'ehh', 'Ridden', 'aside', 'Apples', \"'e\", 'real', 'DIRECTOR', 'Must', 'am', 'va.', 'routines', 'tiny-brained', 'therefore', 'oui', 'n', 'lobbest', 'keepers', 'started', 'like', 'acting', 'On', 'humble', 'obviously', 'cruel', 'um', 'CARTOON', 'while', 'sworn', 'brave', 'Brave', 'asking', 'binding', 'out-clever', 'afoot', 'Bristol', 'Actually', 'van', 'bringing', 'Aaagh', 'ho', 'etc', 'sacrifice', \"'uuggggggh\", '!', 'dead', 'Ni', 'but', 'floats', 'My', 'legs', 'sure', 'must', 'want', 'Skip', 'swamp', 'alive', 'None', 'silence', 'Message', 'wo', 'whop', 'rejoicing', 'ran', 'Yeaaah', 'Packing', 'bit', 'understand', 'towards', 'scratch', 'worst', 'witness', 'stood', \"'cause\", 'bleed', 'castle', \"'round\", 'witches', 'recover', 'expect', 'dynamite', 'consulted', 'Did', 'Yup', 'Huh', 'valleys', 'indefatigable', 'alight', 'tart', 'surprise', 'smack', 'woosh', 'O', 'Splendid', 'rope', 'repressing', \"'ll\", 'ignore', 'clack', 'kings', 'should', 'use', 'Swamp', 'forest', 'your', 'thank', 'burn', 'thud', 'Two', 'fwump', 'Keep', 'dictatorship', 'No', 'spanked', 'hamster', 'bonk', 'AMAZING', 'hast', 'string', 'Bravest', 'Pin', 'certain', 'daft', 'Anthrax', 'fruit', 'along', 'sniff', 'Bravely', 'suggesting', 'Antioch', 'strategy', 'A', 'MAN', 'man', 'almost', 'met', 'Like', 'scrape', '11', 'kill', 'Pendragon', 'splash', 'Quoi', 'Why', 'direction', 'art', 'major', 'carried', 'lady', 'chorus', 'k-nnnnniggets', 'classes', 'bang', 'point', 'seldom', 'window-dresser', 'Midget', 'leg', 'dancing', 'remember', 'yours', 'European', 'boil', 'Stay', 'running', 'Oooo', 'refuse', 'tropical', 'penalty', 'enjoying', 'Prince', 'Yeaah', 'last', 'tackle', 'this', 'bed', 'scarper', 'Does', 'tie', 'Say', 'trusty', 'Hyy', \"'m\", 'dressed', 'Please', 'spooky', 'model', 'Brother', 'Augh', 'fell', 'Then', 'blow', 'armor', 'knew', 'lobbed', 'Knights', 'land', 'As', 'slightly', 'stayed', 'heard', 'shimmering', 'always', 'stupid', 'scholar', 'ready', 'snows', 'commands', 'them', 'intermission', 'minute', 'warm', 'quarrel', 'crying', 'pray', 'died', 'throwing', 'husk', 'Maynard', 'bravely', 'gurgle', 'broken', 'ROGER', 'guiding', 'middle', 'logically', 'VILLAGERS', 'swallow', 'name', 'able', 'bridges', 'fallen', 'Twenty-one', 'Idiom', 'girl', \"'S\", 'does', 'bicker', 'illustrious', 'compared', 'language', 'vain', 'late', 'doing', 'B', 'chest', 'Heee', 'goes', 'samite', 'convinced', 'OLD', 'forward', 'horrendous', '20', 'mystic', 'lived', 'internal', 'private', 'told', 'supposed', 'Silence', 'dressing', 'limbs', 'Thank', 'twenty', 'PRINCE', 'grip', 'May', 'thou', 'excuse', 'suspenseful', 'all', 'Frank', 'avenged', 'beds', 'and', 'Castle', 'luck', 'French', 'fine', 'SIR', 'soon', 'Halt', 'score', 'dragging', 'thing', 'Excalibur', 'Battle', 'killer', 'pause', 'Everything', 'against', 'Thppt', 'ha..', 'grips', 'high-pitched', 'there', 'quick', 'Open', 'drilllll', 'things', 'became', 'water', 'people', 'chanting', 'guest', 'Piglet', 'actually', 'Dingo', \"C'est\", 'Oui', 'agree', 'clap', 'Greetings', 'ENCHANTER', '24', 'autonomous', 'beat', 'icy', 'aloft', 'Camaaaaaargue', 'weight', 'Seek', 'BROTHER', 'approacheth', 'Patsy', 'zone', 'run', 'particularly', 'forty-three', 'dub', 'cut', 'removed', 'outdoors', 'other', 'in', 'getting', \"'Til\", 'OF', '17', 'understanding', 'formed', 'shalt', 'me', 'bastards', 'Hallo', 'Not-appearing-in-this-film', 'giggle', \"d'you\", 'HERBERT', ',', 'quite', 'course', 'writing', 'armed', 'Uuh', 'think', 'Robinson', 'BLACK', 'bird', 'keen', 'out', 'to', 'pull', 'tired', 'sonny', 'Umm', \"'aaggggh\", 'third', 'happens', 'court', 'You', 'Exactly', 'idea', 'masses', 'velocity', 'certainly', '8', 'Uhh', 'Steady', 'head', 'donkey-bottom', 'take', 'shall', 'climes', 'CHARACTER', 'jump', 'him', 'daughter', 'howl', 'migrate', 'aquatic', '6', 'Alright', 'donaeis', 'inherent', 'Quite', 'together', 'hiyaah', 'times', 'pointy', 'Concorde', 'curtains', 'King', 'less', 'seen', 'spirit', 'raped', 'meeting', 'Therefore', '5', 'pure', 'on', 'Oh', 'assault', 'entering', 'mortally', 'nice', 'Tale', 'fair', 'Tall', 'na', 'strand', 'throughout', 'WOMAN', 'task', 'Every', 'squeak', 'foul', 'N', 'unhealthy', 'Enchanter', 'dull', 'ours', 'How', 'wooden', 'Hurry', 'SHRUBBER', '[', 'mayest', 'imprisoned', 'ai', \"'anging\", 'nobody', 'accomplished', 'wedlock', 'terrible', 'Bad', 'speak', 'second', 'Anarcho-syndicalism', 'woman', 'cope', 'bi-weekly', 'progress', 'medieval', 'mine', 'lovely', 'KING', 'English', 'Your', 'open', 'auuuuuuuugh', 'worry', 'collective', 'around', 'worse', 'visually', 'mercy', 'kingdom', 'twong', 'least', 'feet', 'blondes', 'Those', 'class', 'folk', 'starling', 'passing', 'tear', 'Thee', 'At', 'walk', 'biggest', 'time', 'See', 'heart', 'Am', 'quest', 'soft', 'testicles', 'even', 'mooooooo', 'Order', 'act', 'FRENCH', 'Aaaah', 'holy', 'pounds', 'manner', 'Whoa', 'slash', 'CRONE', 'forced', 'bother', 'dorsal', 'body', 'Five', ';', 'system', 'knights', 'earthquakes', 'Silly', 'eat', 'settles', 'retreat', 'Fiends', 'Huyah', 'mangy', 'again', 'Most', 'table', 'carved', 'somewhere', 'smashed', 'proved', 'He', 'If', 'get', 'courage', 'lads', 'guard', 'Bloody', 'Death', 'number', 'magne', 'bint', 'clue', 'medical', 'NI', 'higher', 'PARTY', '?', 'already', 'plain', 'stops', 'look', 'sod', 'Quickly', 'live', 'it', 'pansy', 'Psalms', 'GUESTS', 'flint', 'shrubberies', 'change', 'ooh', 'without', 'someone', 'fifty', 'depart', 'baaaa', 'o', 'then', 'summon', 'through', 'night', 'Cut', 'left', 'We', 'yellow', 'sex', 'roar', 'mangled', 'profane', 'better', 'so-called', 'turned', 'tell', 'sun', 'whispering', 'Nu', 'duck', 'could', 'behaviour', 'GUARDS', 'far', 'cross', 'Aauuggghhh', 'Forward', 'dunno', 'successful', 'rabbit', 'shrubbery', 'hopeless', 'whether', 'little', 'ye', 'outwit', 'dramatic', 'Blue', 'bladders', 'Schools', 'south', 'himself', 'tale', 'havin', 'after', 'set', 'disheartened', 'shivering', 'training', 'Excuse', 'took', 'Yeah', 'mayhem', 'tragic', 'Herbert', 'by', 'day', 'er', 'Ector', 'Now', 'farcical', 'God', 'grovel', 'once', 'unsingable', 'pussy', 'only', 'Could', 'need', 'wield', 'each', '19', 'derives', 'de', 'or', 'earth', 'raised', 'dangerous', 'scimitar', 'Ninepence', 'Robin', 'auntie', 'general', 'Ahh', 'Hm', 'bite', 'Are', 'happy', 'arms', 'clad', 'flights', 'mile', 'affairs', 'off', 'basic', 'Joseph', 'aaugh', 'cave', 'economic', 'sight', 'Mother', 'ridden', 'the', 'Hooray', 'very', 'pram', 'dona', 'An', 'wound', 'Nay', 'Help', 'living', 'NARRATOR', 'Badon', 'zoosh', 'interested', 'who', 'stress', 'la', 'Bring', 'Guy', 'nineteen-and-a-half', 'suffered', 'bathing', 'Supposing', 'alarm', 'Eternal', 'Gawain', 'Court', 'Knight', 'creeper', 'suit', 'carving', 'first', 'laden', 'lad', 'society', 'illegitimate-faced', 'buggering', 'upon', 'exploiting', 'LOVELY', 'Aagh', 'electric', 'U', 'dad', 'tree', 'requiem', 'GUARD', 'day..', 'peasant', 'swords', 'making', 'pay', 'gay', 'eis', 'stay', 'fellows', 'effect', 'sacred', 'high', \"'Man\", 'capital', 'sing', 'demand', 'having', 'else', 'hospitality', 'cheesy', 'worthy', 'trouble', 'b', 'pig-dogs', 'accompanied', 'enchanter', 'relics', 'ANIMATOR', 'guided', 'nice-a', 'Great', 'Aah', 'Saxons', 'test', 'undressing', 'empty', 'had', 'doors', 'uuup', 'Clark', 'Zoot', 'path', 'brought', 'LEFT', 'Hoa', 'Beyond', 'Eh', 'PIGLET', 'two', 'Chickennn', 'bum', 'martin', 'Man', 'waste', \"'re\", 'beside', 'scared', 'haste', 'Yapping', 'African', 'gon', 'travellers', 'Shut', 'lapin', 'Mind', 'any', 'leaps', 'hello', 'used', 'Dis-mount', 'Explain', 'room', 'y', 'heroic', 'Chop', 'GOD', 'pimples', \"'Here\", 'whoever', 'laurels', 'crone', 'Recently', 'beyond', 'friend', 'count', 'miss', 'frighten', 'DENNIS', 'Once', 'line', 'sank', 'as', 'sequin', 'food', 'whom', 'dictating', 'workers', 'move', 'so', 'With', 'ratios', 'Doctor', 'absolutely', 'taken', 'assist', 'wrong', 'Together', \"'Dennis\", 'spanking', 'Said', 'finest', 'Table', 'OTHER', 'some', 'really', 'bed-wetting', 'Behold', 'Tower', 'fire', 'tonight', 'Hic', 'She', 'INSPECTOR', 'thought', 'answers', 'saw', 'unladen', \"'old\", ')', 'Woa', 'largest', 'KNIGHTS', 'ca', 'names', 'imperialist', 'hills', 'arrows', 'song', 'with', \"e'er\", 'silly', 'unplugged', 'committed', '18', 'nightfall', 'Forgive', 'anyone', 'Crapper', 'every', 'dark', 'Since', 'please', 'streak', 'become', 'rich', 'crash', 'chickened', 'carries', 'Supreme', 'person', 'cover', 'Unfortunately', 'words', 'lambs', 'band', 'nothing', 'Back', 'how', 'Aggh', 'ptoo', 'sort', 'retold', 'perilous', 'immediately', 'Roger', 'Between', 'horn', 'clear', 'carry', 'now', 'yeah', 'automatically', 'since', 'WINSTON', 'SUN', 'awaaay', 'Nothing', 'face', 'chu', 'we', 'quack', 'boys', 'Welcome', 'did', 'GALAHAD', 'approaching', \"'Aauuuuugh\", 'nasty', 'GREEN', '.', 'right', 'make', 'yourself', 'influential', 'scott', 'sister', 'shit', 'death', 'favor', \"n't\", 'l', 'lonely', '--', 'minutes', 'sheep', 'Picture', 'mumble', \"'Ecky-ecky-ecky-ecky-pikang-zoop-boing-goodem-zoo-owli-zhiv\", 'plover', 'wind', 'spank', 'strangers', 'government', 'question', 'brunettes', 'Rather', 'kick', 'hacked', 'haaa', 'door', 'science', 'Prepare', 'many', 'maintain', 'Um', 'CRASH', 'aptly', 'dear', 'There', \"'Erbert\", 'seek', 'ungallant', 'dirty', 'time-a', 'Uugh', 'feast', 'ride', 'prevent', 'Bon', 'bold', 'tinder', 'CAMERAMAN', 'come', 'wings', 'liver', 'Haw', 'hoo', 'siren', 'drink', 'properly', 'Lie', 'welcome', 'ruffians', 'noise', 'persons', 'Our', 'week', 'fooling', 'vary', 'her', 'owns', 'force', 'sword', 'Hill', 'false', '1', 'singing', 'birds', 'coming', 'let', 'heeh', 'voluntarily', 'forget', 'wave', 'such', 'breath', 'fight', 'Wood', 'Peril', 'its', 'DEAD', '22', 'Action', 'temperate', '13', 'warmer', 'executive', 'Hya', 'bones', 'coconut', 'hear', 'son', 'underwear', 'rhymes', 'Not', 'servant', 'moistened', 'Huy', 'accent', 'hat', 'Mercea', 'witch', 'scots', 'repressed', 'wayy', 'push', 'know', 'father', 'Loimbard', 'outrageous', 'still', \"'I\", 'elderberries', 'enough', 'shelter', 'Aramaic', 'biters', 'delirious', 'CROWD', 'named', 'they', 'harmless', 'resumes', 'when', ':', 'big', 'bows', \"'Oooooooh\", 'have', 'forth', 'marrying', 'autocracy', 'rode', 'good', 'Waa', \"'Ni\", 'Aaauugh', 'wherein', 'bottom', 'Burn', 'stop', 'later', 'w', 'sweet', 'buy', 'Erm', 'conclusion', 'bosom', 'necessary', 'reared', 'filth', 'she', 'Today', 'yel', 'considerable', 'tit', 'he', 'CHARACTERS', 'beautiful', 'Mine', 'apart', 'ARTHUR', 'Looks', 'breadth', 'wide', 'life', 'headed', \"'forgive\", 'thonk', 'up', 'Jesus', 'mother', 'But', 'Camelot', 'two-thirds', 'return', 'BORS', 'vital', 'runes', 'Found', 'quests', 'killed', 'bid', 'Aaaaaah', 'moment', 'until', 'helpful', 'varletesses', 'bats', 'j', 'dine', 'Shh', 'jokes', 'tea', 'fought', 'punishment', 'terribly', 'Winter', 'Grail', 'Too', 'Make', 'mad', 'ALL', 'favorite', 'present', 'discovered', 'headoff', 'Do', 'un', 'RANDOM', 'Himself', 'a', \"'it\", 'master', 'nor', 'PATSY', 'anarcho-syndicalist', 'burned', 'air-speed', 'warning', 'pound', 'Throw', 'daring', 'advancing', 'Hey', 'Aaah', 'pond', 'examine', 'peril', 'from', 'sloths', 'great', 'spake', 'married', 'That', 'depressing', 'feint', 'what', '4', 'One', 'thwonk', 'may', 'creak', 'CART-MASTER', 'power', 'lost', 'here', 'trough', 'chance', 'these', 'further', 'hell', 'GIRLS', 'teeth', 'So', 'purpose', 'side', 'oooh', 'been', 'smelt', 'wood', 'mud', 'SCENE', 'bond', \"'\", 'Dappy', 'lives', 'Lancelot', 'wonderful', 'held', 'wise', 'Quiet', 'found', 'mac', 'spoken', 'Will', 'employed', 'impeccable', 's', 'Iiiives', 'ratified', 'bridgekeeper', 'fourth', 'taking', 'Alice', 'stuffed', 'Providence', 'Dennis', 'preserving', 'attack', 'temptation', 'men'}\n"
     ]
    }
   ],
   "source": [
    "# Import necessary modules\n",
    "from nltk.tokenize import sent_tokenize\n",
    "from nltk.tokenize import word_tokenize\n",
    "\n",
    "# Split scene_one into sentences: sentences\n",
    "sentences = sent_tokenize(scene_one)\n",
    "\n",
    "# Use word_tokenize to tokenize the fourth sentence: tokenized_sent\n",
    "tokenized_sent = word_tokenize(sentences[3])\n",
    "\n",
    "# Make a set of unique tokens in the entire scene: unique_tokens\n",
    "unique_tokens = set(word_tokenize(scene_one))\n",
    "\n",
    "# Print the unique tokens result\n",
    "print(unique_tokens)"
   ]
  },
  {
   "cell_type": "code",
   "execution_count": 35,
   "metadata": {},
   "outputs": [
    {
     "name": "stdout",
     "output_type": "stream",
     "text": [
      "580 588\n",
      "<_sre.SRE_Match object; span=(9, 32), match='[wind] [clop clop clop]'>\n",
      "<_sre.SRE_Match object; span=(0, 7), match='ARTHUR:'>\n"
     ]
    }
   ],
   "source": [
    "# Search for the first occurrence of \"coconuts\" in scene_one: match\n",
    "match = re.search(\"coconuts\", scene_one)\n",
    "\n",
    "# Print the start and end indexes of match\n",
    "print(match.start(), match.end())\n",
    "\n",
    "# Write a regular expression to search for anything in square brackets: pattern1\n",
    "pattern1 = r\"\\[.*\\]\"\n",
    "\n",
    "# Use re.search to find the first text in square brackets\n",
    "print(re.search(pattern1, scene_one))\n",
    "\n",
    "# Find the script notation at the beginning of the fourth sentence and print it\n",
    "pattern2 = r\"[\\w\\s]+:\"\n",
    "print(re.match(pattern2, sentences[3]))"
   ]
  },
  {
   "cell_type": "code",
   "execution_count": 36,
   "metadata": {
    "collapsed": true
   },
   "outputs": [],
   "source": [
    "german_text = \"Wann gehen wir zum Pizza? 🍕 Und fährst du mit Über? 🚕\""
   ]
  },
  {
   "cell_type": "code",
   "execution_count": 37,
   "metadata": {
    "collapsed": true
   },
   "outputs": [],
   "source": [
    "from nltk.tokenize import regexp_tokenize\n",
    "from nltk.tokenize import word_tokenize"
   ]
  },
  {
   "cell_type": "code",
   "execution_count": 38,
   "metadata": {},
   "outputs": [
    {
     "name": "stdout",
     "output_type": "stream",
     "text": [
      "['Wann', 'gehen', 'wir', 'zum', 'Pizza', '?', '🍕', 'Und', 'fährst', 'du', 'mit', 'Über', '?', '🚕']\n",
      "['Wann', 'Pizza', 'Und', 'Über']\n",
      "['🍕', '🚕']\n"
     ]
    }
   ],
   "source": [
    "# Tokenize and print all words in german_text\n",
    "all_words = word_tokenize(german_text)\n",
    "print(all_words)\n",
    "\n",
    "# Tokenize and print only capital words\n",
    "capital_words = r\"[A-ZÜ]\\w+\"\n",
    "print(regexp_tokenize(german_text, capital_words))\n",
    "\n",
    "# Tokenize and print only emoji\n",
    "emoji = \"['\\U0001F300-\\U0001F5FF'|'\\U0001F600-\\U0001F64F'|'\\U0001F680-\\U0001F6FF'|'\\u2600-\\u26FF\\u2700-\\u27BF']\"\n",
    "print(regexp_tokenize(german_text, emoji))"
   ]
  },
  {
   "cell_type": "code",
   "execution_count": 39,
   "metadata": {
    "collapsed": true
   },
   "outputs": [],
   "source": [
    "with open('grail.txt', 'r') as myfile:\n",
    "  holy_grail = myfile.read()"
   ]
  },
  {
   "cell_type": "code",
   "execution_count": 40,
   "metadata": {},
   "outputs": [
    {
     "data": {
      "image/png": "[encoded data removed]",
      "text/plain": [
       "<matplotlib.figure.Figure at 0x117663208>"
      ]
     },
     "metadata": {},
     "output_type": "display_data"
    }
   ],
   "source": [
    "import matplotlib.pyplot as plt\n",
    "\n",
    "# Split the script into lines: lines\n",
    "lines = holy_grail.split('\\n')\n",
    "\n",
    "# Replace all script lines for speaker\n",
    "pattern = \"[A-Z]{2,}(\\s)?(#\\d)?([A-Z]{2,})?:\"\n",
    "lines = [re.sub(pattern, '', l) for l in lines]\n",
    "\n",
    "# Tokenize each line: tokenized_lines\n",
    "tokenized_lines = [regexp_tokenize(s, \"\\w+\") for s in lines]\n",
    "\n",
    "# Make a frequency list of lengths: line_num_words\n",
    "line_num_words = [len(t_line) for t_line in tokenized_lines]\n",
    "\n",
    "# Plot a histogram of the line lengths\n",
    "plt.hist(line_num_words)\n",
    "\n",
    "# Show the plot\n",
    "plt.show()"
   ]
  },
  {
   "cell_type": "code",
   "execution_count": 41,
   "metadata": {
    "collapsed": true
   },
   "outputs": [],
   "source": [
    "with open('wiki_text_debugger.txt', 'r') as myfile:\n",
    "  article = myfile.read()"
   ]
  },
  {
   "cell_type": "code",
   "execution_count": 42,
   "metadata": {},
   "outputs": [
    {
     "name": "stdout",
     "output_type": "stream",
     "text": [
      "[(',', 63), ('the', 45), ('.', 45), ('{', 38), ('}', 38), ('a', 32), ('and', 32), ('to', 27), (\"''\", 25), ('debugger', 25)]\n"
     ]
    }
   ],
   "source": [
    "# Import Counter\n",
    "from collections import Counter\n",
    "\n",
    "# Tokenize the article: tokens\n",
    "tokens = word_tokenize(article)\n",
    "\n",
    "# Convert the tokens into lowercase: lower_tokens\n",
    "lower_tokens = [t.lower() for t in tokens]\n",
    "\n",
    "# Create a Counter with the lowercase tokens: bow_simple\n",
    "bow_simple = Counter(lower_tokens)\n",
    "\n",
    "# Print the 10 most common tokens\n",
    "print(bow_simple.most_common(10))"
   ]
  },
  {
   "cell_type": "code",
   "execution_count": 43,
   "metadata": {
    "collapsed": true
   },
   "outputs": [],
   "source": [
    "with open('english_stopwords.txt', 'r') as myfile:\n",
    "  english_stops = myfile.read()"
   ]
  },
  {
   "cell_type": "code",
   "execution_count": 44,
   "metadata": {},
   "outputs": [
    {
     "name": "stdout",
     "output_type": "stream",
     "text": [
      "[('debugger', 47), ('debugging', 19), ('program', 16), ('tool', 10), ('software', 9), ('code', 8), ('also', 8), ('debug', 8), ('reverse', 8), ('used', 7)]\n"
     ]
    }
   ],
   "source": [
    "# Import WordNetLemmatizer\n",
    "from nltk.stem import WordNetLemmatizer\n",
    "\n",
    "# Retain alphabetic words: alpha_only\n",
    "alpha_only = [t for t in lower_tokens if t.isalpha()]\n",
    "\n",
    "# Remove all stop words: no_stops\n",
    "no_stops = [t for t in alpha_only if t not in english_stops]\n",
    "\n",
    "# Instantiate the WordNetLemmatizer\n",
    "wordnet_lemmatizer = WordNetLemmatizer()\n",
    "\n",
    "# Lemmatize all tokens into a new list: lemmatized\n",
    "lemmatized = [wordnet_lemmatizer.lemmatize(t) for t in no_stops]\n",
    "\n",
    "# Create the bag-of-words: bow\n",
    "bow = Counter(lemmatized)\n",
    "\n",
    "# Print the 10 most common tokens\n",
    "print(bow.most_common(10))"
   ]
  },
  {
   "cell_type": "code",
   "execution_count": 45,
   "metadata": {},
   "outputs": [
    {
     "name": "stdout",
     "output_type": "stream",
     "text": [
      "(NE ISS/NNP)\n",
      "(NE Kumar/NNP)\n",
      "(NE Kumar/NNP)\n",
      "(NE Debugger/NNP)\n",
      "(NE Integrated/NNP Developer/NNP)\n",
      "(NE Microsoft/NNP Visual/NNP Studio/NNP)\n",
      "(NE IntelliTrace/NNP)\n",
      "(NE Visual/NNP Basic/NNP)\n",
      "(NE Reverse/NN)\n",
      "(NE Java/NNP)\n",
      "(NE Python/NNP)\n",
      "(NE Perl/NNP)\n",
      "(NE Reverse/NNP)\n",
      "(NE COBOL/NNP)\n",
      "(NE Popek/NNP)\n",
      "(NE Goldberg/NNP)\n",
      "(NE Hardware/NNP)\n",
      "(NE Joint/JJ Test/NNP Action/NNP Group/NNP)\n",
      "(NE ARM11/NNP)\n",
      "(NE ARM/NNP)\n",
      "(NE Nexus/NNP)\n",
      "(NE JTAG/NNP)\n",
      "(NE Micro/NNP)\n",
      "(NE JTAG/NNP)\n",
      "(NE Background/NNP)\n",
      "(NE debugWIRE/NN)\n",
      "(NE Atmel/NNP AVR/NNP)\n",
      "(NE DebugWIRE/NNP)\n",
      "(NE RESET/NNP)\n",
      "(NE CLI/NNP)\n",
      "(NE Developers/NNP)\n",
      "(NE GUI/NNP)\n",
      "(NE GNU/NNP)\n",
      "(NE GNU/NNP)\n",
      "(NE LLDB/NNP)\n",
      "(NE Microsoft/NNP Visual/NNP Studio/NNP Debugger/NNP Valgrind/NNP)\n",
      "(NE API/NNP)\n",
      "(NE IDEs/NNP)\n",
      "(NE JavaScript/NNP)\n",
      "(NE Watcom/NNP)\n",
      "(NE DDT/NNP)\n",
      "(NE ODT/NNP)\n",
      "(NE Expediter/NNP)\n",
      "(NE Expediter/NNP)\n",
      "(NE Global/NNP Solutions/NNP Directory/NNP)\n",
      "(NE Kernel/NNP)\n",
      "(NE Packet/NNP)\n",
      "(NE Kumar/NNP Aggarwal/NNP)\n",
      "(NE Machine/NNP Code/NNP)\n",
      "(NE Srikant/NNP)\n",
      "(NE Priti/NNP)\n",
      "(NE Data/NNP Structures/NNP)\n",
      "(NE Windows/NNP)\n",
      "(NE Debugger/NNP Resources/NNPS)\n",
      "(NE Visual/NNP Studio/NNP)\n"
     ]
    }
   ],
   "source": [
    "import nltk\n",
    "\n",
    "# Tokenize the article into sentences: sentences\n",
    "sentences = nltk.sent_tokenize(article)\n",
    "\n",
    "# Tokenize each sentence into words: token_sentences\n",
    "token_sentences = [nltk.word_tokenize(sent) for sent in sentences]\n",
    "\n",
    "# Tag each tokenized sentence into parts of speech: pos_sentences\n",
    "pos_sentences = [nltk.pos_tag(sent) for sent in token_sentences] \n",
    "\n",
    "# Create the named entity chunks: chunked_sentences\n",
    "chunked_sentences = nltk.ne_chunk_sents(pos_sentences, binary=True)\n",
    "\n",
    "# Test for stems of the tree with 'NE' tags\n",
    "for sent in chunked_sentences:\n",
    "    for chunk in sent:\n",
    "        if hasattr(chunk, \"label\") and chunk.label() == \"NE\":\n",
    "            print(chunk)"
   ]
  },
  {
   "cell_type": "code",
   "execution_count": null,
   "metadata": {
    "collapsed": true
   },
   "outputs": [],
   "source": []
  }
 ],
 "metadata": {
  "kernelspec": {
   "display_name": "Python 3",
   "language": "python",
   "name": "python3"
  },
  "language_info": {
   "codemirror_mode": {
    "name": "ipython",
    "version": 3
   },
   "file_extension": ".py",
   "mimetype": "text/x-python",
   "name": "python",
   "nbconvert_exporter": "python",
   "pygments_lexer": "ipython3",
   "version": "3.6.1"
  }
 },
 "nbformat": 4,
 "nbformat_minor": 2
}
